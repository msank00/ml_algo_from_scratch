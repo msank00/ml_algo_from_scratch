{
 "cells": [
  {
   "cell_type": "markdown",
   "metadata": {
    "toc-hr-collapsed": false
   },
   "source": [
    "# Implement Logistic Regression from Scratch\n",
    "\n",
    "- [book](http://math.ecnu.edu.cn/~lfzhou/seminar/[Joel_Grus]_Data_Science_from_Scratch_First_Princ.pdf) \n",
    "- [resource](https://ml-cheatsheet.readthedocs.io/en/latest/logistic_regression.html)\n",
    "- [logistic regression cost fnction derivative](https://medium.com/analytics-vidhya/derivative-of-log-loss-function-for-logistic-regression-9b832f025c2d)\n",
    "- [source code](https://github.com/bfortuner/ml-glossary/tree/master/code)"
   ]
  },
  {
   "cell_type": "code",
   "execution_count": 1,
   "metadata": {},
   "outputs": [],
   "source": [
    "import numpy as np"
   ]
  },
  {
   "cell_type": "code",
   "execution_count": 2,
   "metadata": {},
   "outputs": [],
   "source": [
    "# def sigmoid(x: np.array):\n",
    "#     return 1/(1+np.exp(-x))"
   ]
  },
  {
   "cell_type": "markdown",
   "metadata": {},
   "source": [
    "![image](https://upload.wikimedia.org/wikipedia/commons/thumb/8/88/Logistic-curve.svg/320px-Logistic-curve.svg.png)"
   ]
  },
  {
   "cell_type": "markdown",
   "metadata": {},
   "source": [
    "## Logistic function property\n",
    "\n",
    "As its \n",
    "- input gets **large and positive**, it gets closer and closer to `1`. \n",
    "- As its input gets **large and negative**, it gets closer and closer to `0`."
   ]
  },
  {
   "cell_type": "code",
   "execution_count": 3,
   "metadata": {},
   "outputs": [],
   "source": [
    "# sigmoid(np.array([-10])), sigmoid(np.array([0])), sigmoid(np.array([10]))"
   ]
  },
  {
   "cell_type": "markdown",
   "metadata": {},
   "source": [
    "## Logistic function derivative"
   ]
  },
  {
   "cell_type": "markdown",
   "metadata": {},
   "source": [
    "![image](https://www.researchgate.net/profile/Farid_Najafi/publication/268874045/figure/fig2/AS:295410393468928@1447442734016/Graph-of-the-dynamic-logistic-function-and-its-derivative-function-for-active-input-range.png)"
   ]
  },
  {
   "cell_type": "code",
   "execution_count": 4,
   "metadata": {},
   "outputs": [],
   "source": [
    "# def sigmoid_prime(x: np.array):\n",
    "#     return sigmoid(x)*(1-sigmoid(x))"
   ]
  },
  {
   "cell_type": "code",
   "execution_count": 5,
   "metadata": {},
   "outputs": [],
   "source": [
    "# sigmoid(np.array([-10,-10])), sigmoid(np.array([0,0])), sigmoid(np.array([10,10]))"
   ]
  },
  {
   "cell_type": "code",
   "execution_count": 6,
   "metadata": {},
   "outputs": [],
   "source": [
    "# sigmoid_prime(np.array([-10,-10])), sigmoid_prime(np.array([0,0])), sigmoid_prime(np.array([10,10]))"
   ]
  },
  {
   "cell_type": "markdown",
   "metadata": {
    "toc-hr-collapsed": false
   },
   "source": [
    "# Loss Function (Cost function)"
   ]
  },
  {
   "cell_type": "markdown",
   "metadata": {},
   "source": [
    "we use a cost function called **Cross-Entropy**, also known as `Log Loss`. Cross-entropy loss can be divided into two separate cost functions: \n",
    "- one for $𝑦=1$\n",
    "- one for $𝑦=0$\n",
    "\n",
    "![image](https://ml-cheatsheet.readthedocs.io/en/latest/_images/ng_cost_function_logistic.png)\n",
    "\n",
    "**Above functions compressed into one**\n",
    "\n",
    "![image](https://ml-cheatsheet.readthedocs.io/en/latest/_images/logistic_cost_function_joined.png)\n",
    "\n",
    "**Vectorized cost function**\n",
    "\n",
    "![image](https://ml-cheatsheet.readthedocs.io/en/latest/_images/logistic_cost_function_vectorized.png)\n",
    "\n",
    "- [source](https://ml-cheatsheet.readthedocs.io/en/latest/logistic_regression.html)"
   ]
  },
  {
   "cell_type": "markdown",
   "metadata": {},
   "source": [
    "```py\n",
    "h = prediction = sigmoid(x@w.T)\n",
    "\n",
    "x <- dimension 4,3\n",
    "y <- dimension 4,1\n",
    "w <- dimension 1,3\n",
    "\n",
    "h = sigmoid(x@w.T) <- dimesion 4,1\n",
    "log(h) <- dimension (4,1)\n",
    "```\n",
    "\n",
    "$y^T*\\log(h)$ <- dimension 1,1"
   ]
  },
  {
   "cell_type": "code",
   "execution_count": 7,
   "metadata": {},
   "outputs": [],
   "source": [
    "# def predict(X: np.array, w: np.array):\n",
    "#     '''\n",
    "#     Returns 1D array of probabilities\n",
    "#     that the class label == 1\n",
    "#     '''\n",
    "#     prob = sigmoid(X@w)\n",
    "#     return prob"
   ]
  },
  {
   "cell_type": "code",
   "execution_count": 8,
   "metadata": {},
   "outputs": [],
   "source": [
    "# def loss_fn(y_hat: np.array, y: np.array):\n",
    "#     '''\n",
    "#     cost function = NEGATIVE LOG LIKELIHOOD\n",
    "#     Using Mean Absolute Error\n",
    "\n",
    "#     y: Labels: (100,1)\n",
    "#     y_hat: predicted (100, 1)\n",
    "#     m <- len(y)\n",
    "#     Cost = (y*log(y_hat) + (1-y)*log(1-y_hat) ) / m\n",
    "    \n",
    "#     Returns 1D matrix of predictions\n",
    "#     '''\n",
    "#     m = len(y)\n",
    "\n",
    "#     #Take the error when label=1\n",
    "#     class1_cost = y*np.log(y_hat)\n",
    "\n",
    "#     #Take the error when label=0\n",
    "#     class2_cost = (1-y)*np.log(1-y_hat)\n",
    "\n",
    "#     #Take the sum of both costs\n",
    "#     cost = (-1)*(class1_cost + class2_cost)\n",
    "\n",
    "#     #Take the average cost\n",
    "#     cost = cost.sum() / m\n",
    "\n",
    "#     return cost"
   ]
  },
  {
   "cell_type": "code",
   "execution_count": 9,
   "metadata": {},
   "outputs": [],
   "source": [
    "# X = np.random.rand(4,3)\n",
    "# y = np.array([1,0,0,1]).reshape(-1, 1)\n",
    "# w = np.random.rand(3,1)"
   ]
  },
  {
   "cell_type": "code",
   "execution_count": 10,
   "metadata": {},
   "outputs": [],
   "source": [
    "# y_hat = predict(X, w)\n",
    "# y_hat\n",
    "# #loss_fn(y_hat, y)"
   ]
  },
  {
   "cell_type": "code",
   "execution_count": 11,
   "metadata": {},
   "outputs": [],
   "source": [
    "# y_hat.shape"
   ]
  },
  {
   "cell_type": "markdown",
   "metadata": {},
   "source": [
    "<center>\n",
    "    <img src=\"https://i.ytimg.com/vi/b4Vyma9wPHo/maxresdefault.jpg\" width=\"600\">\n",
    "</center>"
   ]
  },
  {
   "cell_type": "markdown",
   "metadata": {},
   "source": [
    "## Loss function derivative\n",
    "\n",
    "![image](https://miro.medium.com/max/289/1*Nr2E9HL-RCDIW78VmBiJyg.png)"
   ]
  },
  {
   "cell_type": "markdown",
   "metadata": {},
   "source": [
    "```\n",
    "y_hat - y <- dimension 4,1  # assuming 4 records\n",
    "X <- feature <- dimension 4,3 # assuming 4 records and each record has 3 feature\n",
    "```\n",
    "\n",
    "X.T(y_hat - y) <- dimension 3, 1 # for 3 feature, 3 weight $w_1, \\dots, w_3$ ($\\theta_1, \\dots, \\theta_3$) and 3 partial derivatives $\\frac{\\partial L}{\\partial w_1}$, $\\frac{\\partial L}{\\partial w_2}$, $\\frac{\\partial L}{\\partial w_3}$ , but all values put inside a numpy vector"
   ]
  },
  {
   "cell_type": "code",
   "execution_count": 12,
   "metadata": {},
   "outputs": [],
   "source": [
    "# def loss_fn_grad(X, y, w):\n",
    "#     \"\"\"Calculate gradient of the loss function\n",
    "#     \"\"\"\n",
    "#     m = len(y)\n",
    "#     y_hat = predict(X,w)\n",
    "#     grad = (X.T @ (y_hat - y))/m\n",
    "#     return grad"
   ]
  },
  {
   "cell_type": "code",
   "execution_count": 13,
   "metadata": {},
   "outputs": [],
   "source": [
    "# loss_fn_grad(X, y, w)"
   ]
  },
  {
   "cell_type": "markdown",
   "metadata": {},
   "source": [
    "# Gradient descent"
   ]
  },
  {
   "cell_type": "markdown",
   "metadata": {},
   "source": [
    "```py\n",
    "Repeat {\n",
    "\n",
    "  1. Calculate gradient average\n",
    "  2. Multiply by learning rate\n",
    "  3. Subtract from weights\n",
    "\n",
    "}\n",
    "```"
   ]
  },
  {
   "cell_type": "code",
   "execution_count": 14,
   "metadata": {},
   "outputs": [],
   "source": [
    "# def update_weight(X, y, w, lr=0.01):\n",
    "#     w -= lr*loss_fn_grad(X, y, w)\n",
    "#     return w"
   ]
  },
  {
   "cell_type": "code",
   "execution_count": 15,
   "metadata": {},
   "outputs": [],
   "source": [
    "# def decision_boundary(prob: float):\n",
    "#     return 1 if prob >= 0.5 else 0"
   ]
  },
  {
   "cell_type": "code",
   "execution_count": 16,
   "metadata": {},
   "outputs": [],
   "source": [
    "# def train(X, y, w, lr=0.01, epochs=5):\n",
    "    \n",
    "#     \"\"\"\n",
    "#     Gradient decent algorithm, where at each epoch all the datasets are passed\n",
    "#     It can be improved by using Stochastic gradient discent \n",
    "#     \"\"\"\n",
    "    \n",
    "#     loss_history = []\n",
    "\n",
    "#     for i in range(epochs):\n",
    "        \n",
    "#         y_hat = predict(X, w)\n",
    "#         loss = loss_fn(y_hat, y)\n",
    "#         loss_history.append(loss)\n",
    "        \n",
    "#         # update weight\n",
    "#         w = update_weight(X, y, w, lr)\n",
    "\n",
    "#         # Log Progress\n",
    "#         if i % 1000 == 0:\n",
    "#             print(\"epoch: \"+str(i) + \" \\t loss: \"+str(np.round(loss,4)))\n",
    "\n",
    "#     return w, loss_history"
   ]
  },
  {
   "cell_type": "code",
   "execution_count": 17,
   "metadata": {},
   "outputs": [],
   "source": [
    "# np.random.choice([0,1], size=(4,1), p=[0.5,0.5])"
   ]
  },
  {
   "cell_type": "code",
   "execution_count": 64,
   "metadata": {},
   "outputs": [],
   "source": [
    "class myLogisticRegression():\n",
    "    def __init__(self,lr=0.001, epochs=100):\n",
    "        self.lr = lr\n",
    "        self.epochs = epochs\n",
    "        \n",
    "    def _init_w(self, X):\n",
    "        return np.random.rand(X.shape[1],1)\n",
    "    \n",
    "    def _sigmoid(self, x: np.array):\n",
    "        return 1/(1+np.exp(-x))\n",
    "    \n",
    "    def _loss_fn_grad(self, X, y, w):\n",
    "        \"\"\"Calculate gradient of the loss function\n",
    "        \"\"\"\n",
    "        m = len(y)\n",
    "        y_hat = self.predict_proba(X)\n",
    "        grad = (X.T @ (y_hat - y))/m\n",
    "        return grad\n",
    "    \n",
    "    def _loss_fn(self, y_hat: np.array, y: np.array):\n",
    "        '''\n",
    "        cost function = NEGATIVE LOG LIKELIHOOD\n",
    "        Using Mean Absolute Error\n",
    "\n",
    "        y: Labels: (100,1)\n",
    "        y_hat: predicted (100, 1)\n",
    "        m <- len(y)\n",
    "        Cost = (y*log(y_hat) + (1-y)*log(1-y_hat) ) / m\n",
    "\n",
    "        Returns 1D matrix of predictions\n",
    "        '''\n",
    "        m = len(y)\n",
    "\n",
    "        #Take the error when label=1\n",
    "        class1_cost = y*np.log(y_hat)\n",
    "\n",
    "        #Take the error when label=0\n",
    "        class2_cost = (1-y)*np.log(1-y_hat)\n",
    "\n",
    "        #Take the sum of both costs\n",
    "        loss = (-1)*(class1_cost + class2_cost)\n",
    "\n",
    "        #Take the average cost\n",
    "        loss = loss.sum() / m\n",
    "\n",
    "        return loss\n",
    "    \n",
    "    def fit(self, X, y):\n",
    "    \n",
    "        \"\"\"\n",
    "        Gradient decent algorithm, where at each epoch all the datasets are passed\n",
    "        It can be improved by using Stochastic gradient discent \n",
    "        \"\"\"\n",
    "\n",
    "        self.w = self._init_w(X)\n",
    "        \n",
    "        loss_history = []\n",
    "\n",
    "        for i in range(self.epochs):\n",
    "\n",
    "            y_hat = self.predict_proba(X)\n",
    "            loss = self._loss_fn(y_hat, y)\n",
    "            loss_history.append(loss)\n",
    "\n",
    "            # update weight\n",
    "            self.w = self._update_weight(X, y, self.w, self.lr)\n",
    "\n",
    "            # Log Progress\n",
    "            if i % 1000 == 0:\n",
    "                print(\"epoch: \"+str(i) + \" \\t loss: \"+str(np.round(loss,4)))\n",
    "\n",
    "        return loss_history\n",
    "    \n",
    "    def _update_weight(self, X, y, w, lr=0.01):\n",
    "        w -= lr*self._loss_fn_grad(X, y, w)\n",
    "        return w\n",
    "    \n",
    "    def predict_proba(self, X: np.array):\n",
    "        '''\n",
    "        Returns 1D array of probabilities\n",
    "        that the class label == 1\n",
    "        '''\n",
    "        prob = self._sigmoid(X@self.w)\n",
    "        return prob"
   ]
  },
  {
   "cell_type": "markdown",
   "metadata": {},
   "source": [
    "# Create fake dataset"
   ]
  },
  {
   "cell_type": "code",
   "execution_count": 119,
   "metadata": {},
   "outputs": [],
   "source": [
    "from sklearn.datasets import make_classification"
   ]
  },
  {
   "cell_type": "code",
   "execution_count": 155,
   "metadata": {},
   "outputs": [],
   "source": [
    "nr = 8000\n",
    "nf = 2"
   ]
  },
  {
   "cell_type": "code",
   "execution_count": 187,
   "metadata": {},
   "outputs": [],
   "source": [
    "X, y = make_classification(n_samples=nr, \n",
    "                           n_features=nf, \n",
    "                           n_informative=2, \n",
    "                           n_redundant=0, \n",
    "                           n_repeated=0, \n",
    "                           n_clusters_per_class=1)\n",
    "y = y.reshape(nr, 1)"
   ]
  },
  {
   "cell_type": "code",
   "execution_count": 188,
   "metadata": {},
   "outputs": [
    {
     "data": {
      "text/plain": [
       "((8000, 2), (8000, 1))"
      ]
     },
     "execution_count": 188,
     "metadata": {},
     "output_type": "execute_result"
    }
   ],
   "source": [
    "X.shape, y.shape"
   ]
  },
  {
   "cell_type": "code",
   "execution_count": 189,
   "metadata": {},
   "outputs": [],
   "source": [
    "import pandas as pd"
   ]
  },
  {
   "cell_type": "code",
   "execution_count": 190,
   "metadata": {},
   "outputs": [
    {
     "data": {
      "text/html": [
       "<div>\n",
       "<style scoped>\n",
       "    .dataframe tbody tr th:only-of-type {\n",
       "        vertical-align: middle;\n",
       "    }\n",
       "\n",
       "    .dataframe tbody tr th {\n",
       "        vertical-align: top;\n",
       "    }\n",
       "\n",
       "    .dataframe thead th {\n",
       "        text-align: right;\n",
       "    }\n",
       "</style>\n",
       "<table border=\"1\" class=\"dataframe\">\n",
       "  <thead>\n",
       "    <tr style=\"text-align: right;\">\n",
       "      <th></th>\n",
       "      <th>feat_0</th>\n",
       "      <th>feat_1</th>\n",
       "      <th>target</th>\n",
       "    </tr>\n",
       "  </thead>\n",
       "  <tbody>\n",
       "    <tr>\n",
       "      <th>0</th>\n",
       "      <td>0.691460</td>\n",
       "      <td>-1.190131</td>\n",
       "      <td>0</td>\n",
       "    </tr>\n",
       "    <tr>\n",
       "      <th>1</th>\n",
       "      <td>0.267731</td>\n",
       "      <td>-0.971202</td>\n",
       "      <td>0</td>\n",
       "    </tr>\n",
       "    <tr>\n",
       "      <th>2</th>\n",
       "      <td>-0.490911</td>\n",
       "      <td>-0.790665</td>\n",
       "      <td>0</td>\n",
       "    </tr>\n",
       "    <tr>\n",
       "      <th>3</th>\n",
       "      <td>0.023421</td>\n",
       "      <td>-0.159541</td>\n",
       "      <td>0</td>\n",
       "    </tr>\n",
       "    <tr>\n",
       "      <th>4</th>\n",
       "      <td>-0.001328</td>\n",
       "      <td>-0.223384</td>\n",
       "      <td>0</td>\n",
       "    </tr>\n",
       "  </tbody>\n",
       "</table>\n",
       "</div>"
      ],
      "text/plain": [
       "     feat_0    feat_1  target\n",
       "0  0.691460 -1.190131       0\n",
       "1  0.267731 -0.971202       0\n",
       "2 -0.490911 -0.790665       0\n",
       "3  0.023421 -0.159541       0\n",
       "4 -0.001328 -0.223384       0"
      ]
     },
     "execution_count": 190,
     "metadata": {},
     "output_type": "execute_result"
    }
   ],
   "source": [
    "df = pd.DataFrame(X, columns=[\"feat_0\", \"feat_1\"])\n",
    "df[\"target\"] = y\n",
    "df.head()"
   ]
  },
  {
   "cell_type": "code",
   "execution_count": 191,
   "metadata": {},
   "outputs": [],
   "source": [
    "import seaborn as sns"
   ]
  },
  {
   "cell_type": "code",
   "execution_count": 192,
   "metadata": {},
   "outputs": [
    {
     "data": {
      "image/png": "[encoded data removed]",
      "text/plain": [
       "<Figure size 432x288 with 1 Axes>"
      ]
     },
     "metadata": {
      "needs_background": "light"
     },
     "output_type": "display_data"
    }
   ],
   "source": [
    "sns.scatterplot(data=df, x=\"feat_0\", y=\"feat_1\", hue=\"target\");"
   ]
  },
  {
   "cell_type": "markdown",
   "metadata": {},
   "source": [
    "# Train model"
   ]
  },
  {
   "cell_type": "code",
   "execution_count": 193,
   "metadata": {},
   "outputs": [],
   "source": [
    "mlr = myLogisticRegression(lr = 0.001, epochs=30000)"
   ]
  },
  {
   "cell_type": "code",
   "execution_count": 194,
   "metadata": {
    "scrolled": true
   },
   "outputs": [
    {
     "name": "stdout",
     "output_type": "stream",
     "text": [
      "epoch: 0 \t loss: 1.0717\n",
      "epoch: 1000 \t loss: 0.7131\n",
      "epoch: 2000 \t loss: 0.5375\n",
      "epoch: 3000 \t loss: 0.4462\n",
      "epoch: 4000 \t loss: 0.3933\n",
      "epoch: 5000 \t loss: 0.36\n",
      "epoch: 6000 \t loss: 0.3374\n",
      "epoch: 7000 \t loss: 0.3212\n",
      "epoch: 8000 \t loss: 0.3093\n",
      "epoch: 9000 \t loss: 0.3001\n",
      "epoch: 10000 \t loss: 0.293\n",
      "epoch: 11000 \t loss: 0.2872\n",
      "epoch: 12000 \t loss: 0.2825\n",
      "epoch: 13000 \t loss: 0.2786\n",
      "epoch: 14000 \t loss: 0.2754\n",
      "epoch: 15000 \t loss: 0.2726\n",
      "epoch: 16000 \t loss: 0.2703\n",
      "epoch: 17000 \t loss: 0.2683\n",
      "epoch: 18000 \t loss: 0.2665\n",
      "epoch: 19000 \t loss: 0.265\n",
      "epoch: 20000 \t loss: 0.2636\n",
      "epoch: 21000 \t loss: 0.2624\n",
      "epoch: 22000 \t loss: 0.2614\n",
      "epoch: 23000 \t loss: 0.2605\n",
      "epoch: 24000 \t loss: 0.2596\n",
      "epoch: 25000 \t loss: 0.2589\n",
      "epoch: 26000 \t loss: 0.2582\n",
      "epoch: 27000 \t loss: 0.2576\n",
      "epoch: 28000 \t loss: 0.257\n",
      "epoch: 29000 \t loss: 0.2566\n"
     ]
    }
   ],
   "source": [
    "loss_history = mlr.fit(X,y)"
   ]
  },
  {
   "cell_type": "code",
   "execution_count": 195,
   "metadata": {},
   "outputs": [],
   "source": [
    "#w_hat, loss_history = train(X, y, w, lr = 0.005, epochs=20000)"
   ]
  },
  {
   "cell_type": "markdown",
   "metadata": {},
   "source": [
    "# Plot loss"
   ]
  },
  {
   "cell_type": "code",
   "execution_count": 196,
   "metadata": {},
   "outputs": [
    {
     "data": {
      "image/png": "[encoded data removed]",
      "text/plain": [
       "<Figure size 432x288 with 1 Axes>"
      ]
     },
     "metadata": {
      "needs_background": "light"
     },
     "output_type": "display_data"
    }
   ],
   "source": [
    "%matplotlib inline\n",
    "import matplotlib.pyplot as plt\n",
    "plt.plot(loss_history)\n",
    "plt.xlabel(\"epochs\")\n",
    "plt.ylabel(\"loss\")\n",
    "plt.grid(alpha=0.3)\n",
    "plt.show()"
   ]
  },
  {
   "cell_type": "markdown",
   "metadata": {},
   "source": [
    "## Predict with my model"
   ]
  },
  {
   "cell_type": "code",
   "execution_count": 202,
   "metadata": {},
   "outputs": [],
   "source": [
    "test_input= X[7].reshape(1,-1)"
   ]
  },
  {
   "cell_type": "code",
   "execution_count": 203,
   "metadata": {},
   "outputs": [
    {
     "data": {
      "text/plain": [
       "array([[0.49994884, 0.50005116]])"
      ]
     },
     "execution_count": 203,
     "metadata": {},
     "output_type": "execute_result"
    }
   ],
   "source": [
    "class_1_prob = mlr.predict_proba(test_input)\n",
    "class_0_prob = 1 - class_1_prob\n",
    "np.array([class_0_prob, class_1_prob]).reshape(1,-1)"
   ]
  },
  {
   "cell_type": "markdown",
   "metadata": {},
   "source": [
    "# Train with Sklearn to compare"
   ]
  },
  {
   "cell_type": "code",
   "execution_count": 204,
   "metadata": {},
   "outputs": [],
   "source": [
    "from sklearn.linear_model import LogisticRegression"
   ]
  },
  {
   "cell_type": "code",
   "execution_count": 205,
   "metadata": {},
   "outputs": [],
   "source": [
    "clf = LogisticRegression(random_state=0).fit(X, y.ravel())"
   ]
  },
  {
   "cell_type": "markdown",
   "metadata": {},
   "source": [
    "## Predict with sklearn"
   ]
  },
  {
   "cell_type": "code",
   "execution_count": 206,
   "metadata": {},
   "outputs": [
    {
     "data": {
      "text/plain": [
       "array([[0.12171109, 0.87828891]])"
      ]
     },
     "execution_count": 206,
     "metadata": {},
     "output_type": "execute_result"
    }
   ],
   "source": [
    "clf.predict_proba(test_input)"
   ]
  },
  {
   "cell_type": "code",
   "execution_count": null,
   "metadata": {},
   "outputs": [],
   "source": []
  }
 ],
 "metadata": {
  "kernelspec": {
   "display_name": "Python (py36)",
   "language": "python",
   "name": "py36"
  },
  "language_info": {
   "codemirror_mode": {
    "name": "ipython",
    "version": 3
   },
   "file_extension": ".py",
   "mimetype": "text/x-python",
   "name": "python",
   "nbconvert_exporter": "python",
   "pygments_lexer": "ipython3",
   "version": "3.6.9"
  }
 },
 "nbformat": 4,
 "nbformat_minor": 4
}

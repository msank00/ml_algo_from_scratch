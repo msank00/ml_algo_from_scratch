{
 "cells": [
  {
   "cell_type": "code",
   "execution_count": 18,
   "id": "18535fa7-1ae0-4285-a632-d0559e6d1b9f",
   "metadata": {},
   "outputs": [],
   "source": [
    "%matplotlib inline"
   ]
  },
  {
   "cell_type": "code",
   "execution_count": 19,
   "id": "e5a34f54-e5e7-4d65-b374-d0f0f68add39",
   "metadata": {},
   "outputs": [],
   "source": [
    "from matplotlib import pyplot as plt"
   ]
  },
  {
   "cell_type": "code",
   "execution_count": 40,
   "id": "91c5cef8-7184-4651-9ae7-6a101d3458bd",
   "metadata": {},
   "outputs": [],
   "source": [
    "import numpy as np"
   ]
  },
  {
   "cell_type": "code",
   "execution_count": 57,
   "id": "3fe9d51e-c121-440a-b285-75719c5970ea",
   "metadata": {},
   "outputs": [],
   "source": [
    "from typing import Generator\n",
    "\n",
    "def lcg(multiplier:int, seed:int, increment: int, modulus:int, size:int) -> Generator[int, None, None]:\n",
    "    for i in range(size):\n",
    "        seed = (multiplier*seed + increment) % modulus\n",
    "        yield seed/modulus"
   ]
  },
  {
   "cell_type": "code",
   "execution_count": 60,
   "id": "a3c0e6c0-eae8-40f5-b589-a3594e13e6fb",
   "metadata": {},
   "outputs": [],
   "source": [
    "def lcg_uniform(multiplier:int, seed:int, increment: int, modulus:int, size:int,lo = 0, high=1):\n",
    "    out = np.array(list(lcg(multiplier, seed, increment, modulus , size)))\n",
    "    \n",
    "    return lo+(high - lo)*out"
   ]
  },
  {
   "cell_type": "code",
   "execution_count": 61,
   "id": "2abe0e6e-bc64-4f0c-80b3-005793462e5f",
   "metadata": {},
   "outputs": [
    {
     "data": {
      "text/plain": [
       "(array([200., 200., 200.,   0.,   0.,   0., 200.,   0.,   0., 200.]),\n",
       " array([0.        , 0.08181818, 0.16363636, 0.24545455, 0.32727273,\n",
       "        0.40909091, 0.49090909, 0.57272727, 0.65454545, 0.73636364,\n",
       "        0.81818182]),\n",
       " <BarContainer object of 10 artists>)"
      ]
     },
     "execution_count": 61,
     "metadata": {},
     "output_type": "execute_result"
    },
    {
     "data": {
      "image/png": "[encoded data removed]",
      "text/plain": [
       "<Figure size 432x288 with 1 Axes>"
      ]
     },
     "metadata": {
      "needs_background": "light"
     },
     "output_type": "display_data"
    }
   ],
   "source": [
    "out = lcg_uniform(multiplier=5, seed=12, increment=1, modulus=11 , size=1000)\n",
    "plt.hist(out)"
   ]
  },
  {
   "cell_type": "code",
   "execution_count": 58,
   "id": "13ecce43-ce8d-4f17-b592-9e575285db8f",
   "metadata": {},
   "outputs": [
    {
     "data": {
      "image/png": "[encoded data removed]",
      "text/plain": [
       "<Figure size 432x288 with 1 Axes>"
      ]
     },
     "metadata": {
      "needs_background": "light"
     },
     "output_type": "display_data"
    }
   ],
   "source": [
    "out = lcg(multiplier=5, seed=12, increment=1, modulus=11 , size=1000)\n",
    "plt.hist(list(out));"
   ]
  },
  {
   "cell_type": "code",
   "execution_count": 59,
   "id": "46030202-9329-42b0-99d6-679e5b43aa23",
   "metadata": {},
   "outputs": [
    {
     "data": {
      "image/png": "[encoded data removed]",
      "text/plain": [
       "<Figure size 432x288 with 1 Axes>"
      ]
     },
     "metadata": {
      "needs_background": "light"
     },
     "output_type": "display_data"
    }
   ],
   "source": [
    "out = lcg(multiplier=16807, seed=123456789, increment=1, modulus=(2**31)-1 , size=1000)\n",
    "plt.hist(list(out));"
   ]
  },
  {
   "cell_type": "code",
   "execution_count": 63,
   "id": "631a3c42-7a16-42e8-a2f0-524b5fb072ac",
   "metadata": {},
   "outputs": [
    {
     "data": {
      "text/plain": [
       "(array([ 83., 112., 114., 105.,  97.,  84., 100.,  97., 109.,  99.]),\n",
       " array([-2.99927988e+00, -2.00098808e+00, -1.00269629e+00, -4.40448849e-03,\n",
       "         9.93887308e-01,  1.99217910e+00,  2.99047090e+00,  3.98876270e+00,\n",
       "         4.98705449e+00,  5.98534629e+00,  6.98363809e+00]),\n",
       " <BarContainer object of 10 artists>)"
      ]
     },
     "execution_count": 63,
     "metadata": {},
     "output_type": "execute_result"
    },
    {
     "data": {
      "image/png": "[encoded data removed]",
      "text/plain": [
       "<Figure size 432x288 with 1 Axes>"
      ]
     },
     "metadata": {
      "needs_background": "light"
     },
     "output_type": "display_data"
    }
   ],
   "source": [
    "out = lcg_uniform(multiplier=16807, seed=123456789, increment=1, modulus=(2**31)-1 , size=1000, lo=-3, high=7)\n",
    "plt.hist(out)"
   ]
  },
  {
   "cell_type": "code",
   "execution_count": null,
   "id": "0fb7fe6a-c4c4-491a-aa54-9cf34b29f9ff",
   "metadata": {},
   "outputs": [],
   "source": []
  }
 ],
 "metadata": {
  "kernelspec": {
   "display_name": "Python 3 (ipykernel)",
   "language": "python",
   "name": "python3"
  },
  "language_info": {
   "codemirror_mode": {
    "name": "ipython",
    "version": 3
   },
   "file_extension": ".py",
   "mimetype": "text/x-python",
   "name": "python",
   "nbconvert_exporter": "python",
   "pygments_lexer": "ipython3",
   "version": "3.8.11"
  }
 },
 "nbformat": 4,
 "nbformat_minor": 5
}
